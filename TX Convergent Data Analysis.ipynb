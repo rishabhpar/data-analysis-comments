{
 "cells": [
  {
   "cell_type": "code",
   "execution_count": null,
   "metadata": {},
   "outputs": [
    {
     "name": "stderr",
     "output_type": "stream",
     "text": [
      "[nltk_data] Downloading package vader_lexicon to\n",
      "[nltk_data]     C:\\Users\\humza\\AppData\\Roaming\\nltk_data...\n",
      "[nltk_data]   Package vader_lexicon is already up-to-date!\n"
     ]
    }
   ],
   "source": [
    "import pandas as pd\n",
    "from sklearn.linear_model import LogisticRegression\n",
    "from sklearn.model_selection import train_test_split\n",
    "from sklearn.metrics import f1_score\n",
    "import numpy\n",
    "import collections\n",
    "import string\n",
    "#\n",
    "import matplotlib.pyplot as plt\n",
    "import nltk\n",
    "from nltk.corpus import stopwords\n",
    "from nltk import pos_tag\n",
    "nltk.download('vader_lexicon')\n",
    "from nltk.sentiment.vader import SentimentIntensityAnalyzer\n",
    "from profanity_check import predict, predict_prob\n",
    "\n",
    "df = pd.read_csv(\"train.csv\");\n",
    "df = df.drop(['severe_toxic', 'obscene', 'threat', 'insult', 'identity_hate'], axis=1)\n",
    "df['num_chars'] = df[\"comment_text\"].apply(len)\n",
    "df['words'] = df['comment_text'].apply(lambda x: len(x.split()))\n",
    "df['prop_words'] = df['words']/df['num_chars']\n",
    "df['capitals'] = df['comment_text'].apply(lambda x: sum (1 for char in x if char.isupper()))\n",
    "df['prop_capitals'] = df['capitals']/df['num_chars']\n",
    "df['prop_caps_vs_words'] = df['capitals']/df['words']\n",
    "df['paragraphs'] = df['comment_text'].apply(lambda x: x.count('\\n'))\n",
    "df['prop_paragraphs'] = df['paragraphs']/df['num_chars']\n",
    "df['prop_paragraphs_vs_words'] = df['paragraphs']/df['words']\n",
    "#nltk.download('stopwords')\n",
    "stopwords =  set(stopwords.words(\"english\"))\n",
    "df['num_stopwords'] = df['comment_text'].apply(lambda x: sum(x.count(w) for w in stopwords))\n",
    "df['prop_stopwords']=df['num_stopwords']/df['num_chars']\n",
    "df['prop_stopwords_vs_words'] = df['num_stopwords']/df['words']\n",
    "\n",
    "df['exclamation'] = df['comment_text'].apply(lambda x: x.count(\"!\"))\n",
    "df['prop_exclamation']=df['exclamation']/df['num_chars']\n",
    "df['prop_exclamation_vs_words'] = df['exclamation']/df['words']\n",
    "\n",
    "df['question_marks'] = df['comment_text'].apply(lambda x: x.count(\"?\"))\n",
    "df['prop_question']=df['question_marks']/df['num_chars']\n",
    "df['prop_question_vs_words'] = df['question_marks']/df['words']\n",
    "\n",
    "df['punctuation'] = df['comment_text'].apply(lambda x: sum(x.count(w) for w in string.punctuation))\n",
    "df['prop_punctuation']=df['punctuation']/df['num_chars']\n",
    "df['prop_punctuation_vs_words'] = df['punctuation']/df['words']\n",
    "\n",
    "df['unique_words'] = df['comment_text'].apply(lambda x: len(set(w for w in x.split())))\n",
    "df['prop_unique']=df['unique_words']/df['num_chars']\n",
    "df['prop_unique_vs_words'] = df['unique_words']/df['words']\n",
    "\n",
    "repeated_threshold = 10\n",
    "def num_repeated(text):\n",
    "    sptext = text.split()\n",
    "    word_counts = collections.Counter(sptext)\n",
    "    return sum(count for word, count in sorted(word_counts.items()) if count>repeated_threshold)\n",
    "\n",
    "df['repeated_words'] = df['comment_text'].apply(lambda x: num_repeated(x))\n",
    "df['toxic_count'] = df['comment_text'].apply(lambda x: sum(predict(x.split())))\n",
    "df['prop_repeated']=df['repeated_words']/df['num_chars']\n",
    "df['prop_repeated_vs_words'] = df['repeated_words']/df['words']\n",
    "\n",
    "df['mentions'] = df['comment_text'].apply(lambda x: x.count(\"User:\"))\n",
    "df['prop_mentions']=df['mentions']/df['num_chars']\n",
    "df['prop_mentions_vs_words'] = df['mentions']/df['words']\n",
    "\n",
    "sid = SentimentIntensityAnalyzer()\n",
    "polarity_scores = df['comment_text'].apply(lambda x: sid.polarity_scores(x))\n",
    "print(polarity_scores)\n",
    "df['sentiment_compound'] = [p['compound'] for p in polarity_scores]\n",
    "df['sentiment_positive'] = [p['pos'] for p in polarity_scores]\n",
    "df['sentiment_negative'] = [p['neg'] for p in polarity_scores]\n",
    "df['sentiment_neutral'] = [p['neu'] for p in polarity_scores]\n",
    "target = df['toxic']\n",
    "df = df.drop(columns=['id','toxic','comment_text'])\n",
    "df.to_csv(\"train_cleaned.csv\")\n",
    "print(df)\n",
    "x_train, x_test, y_train, y_test = train_test_split(df, target, test_size=0.25, random_state=0)\n",
    "model = LogisticRegression(class_weight='balanced')\n",
    "model.fit(x_train,y_train)\n",
    "y_pred = model.predict(x_test)\n",
    "score = model.score(x_test, y_test)\n",
    "print(score)\n",
    "print(f1_score(y_test,y_pred))\n"
   ]
  },
  {
   "cell_type": "code",
   "execution_count": 1,
   "metadata": {},
   "outputs": [],
   "source": []
  },
  {
   "cell_type": "code",
   "execution_count": null,
   "metadata": {},
   "outputs": [],
   "source": []
  },
  {
   "cell_type": "code",
   "execution_count": null,
   "metadata": {},
   "outputs": [],
   "source": []
  },
  {
   "cell_type": "code",
   "execution_count": null,
   "metadata": {},
   "outputs": [],
   "source": []
  },
  {
   "cell_type": "code",
   "execution_count": null,
   "metadata": {},
   "outputs": [],
   "source": []
  }
 ],
 "metadata": {
  "kernelspec": {
   "display_name": "Python 3",
   "language": "python",
   "name": "python3"
  },
  "language_info": {
   "codemirror_mode": {
    "name": "ipython",
    "version": 3
   },
   "file_extension": ".py",
   "mimetype": "text/x-python",
   "name": "python",
   "nbconvert_exporter": "python",
   "pygments_lexer": "ipython3",
   "version": "3.7.2"
  }
 },
 "nbformat": 4,
 "nbformat_minor": 2
}
